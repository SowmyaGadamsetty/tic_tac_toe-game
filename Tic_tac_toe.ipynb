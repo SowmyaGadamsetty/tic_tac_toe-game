{
 "cells": [
  {
   "cell_type": "code",
   "execution_count": 1,
   "metadata": {},
   "outputs": [],
   "source": [
    "from IPython.display import clear_output\n",
    "def display_board(board):\n",
    "    #clear_output()\n",
    "    \n",
    "    print(board[7]+'|'+board[8]+'|'+board[9])\n",
    "    print(board[4]+'|'+board[5]+'|'+board[6])\n",
    "    print(board[1]+'|'+board[2]+'|'+board[3])"
   ]
  },
  {
   "cell_type": "code",
   "execution_count": 2,
   "metadata": {},
   "outputs": [],
   "source": [
    "  def sample_board():\n",
    "    SampleBoard=['0','1','2','3','4','5','6','7','8','9']\n",
    "    print(SampleBoard[7]+'|'+SampleBoard[8]+'|'+SampleBoard[9])\n",
    "    print(SampleBoard[4]+'|'+SampleBoard[5]+'|'+SampleBoard[6])\n",
    "    print(SampleBoard[1]+'|'+SampleBoard[2]+'|'+SampleBoard[3])"
   ]
  },
  {
   "cell_type": "code",
   "execution_count": 3,
   "metadata": {},
   "outputs": [
    {
     "name": "stdout",
     "output_type": "stream",
     "text": [
      "7|8|9\n",
      "4|5|6\n",
      "1|2|3\n"
     ]
    }
   ],
   "source": [
    "test_board=['#','X','O','X','O','X','O','X','O','X']\n",
    "#display_board(test_board)\n",
    "sample_board()"
   ]
  },
  {
   "cell_type": "code",
   "execution_count": 4,
   "metadata": {},
   "outputs": [],
   "source": [
    "def player_name():\n",
    "    player1_name=input(\"Player1, please enter your name: \")\n",
    "    player2_name=input(\"Player2, please enter your name: \")\n",
    "    return (player1_name, player2_name)"
   ]
  },
  {
   "cell_type": "code",
   "execution_count": 5,
   "metadata": {},
   "outputs": [
    {
     "name": "stdout",
     "output_type": "stream",
     "text": [
      "Player1, please enter your name: \n",
      "Player2, please enter your name: sowmya\n"
     ]
    },
    {
     "data": {
      "text/plain": [
       "('', 'sowmya')"
      ]
     },
     "execution_count": 5,
     "metadata": {},
     "output_type": "execute_result"
    }
   ],
   "source": [
    "player_name()"
   ]
  },
  {
   "cell_type": "code",
   "execution_count": 6,
   "metadata": {},
   "outputs": [],
   "source": [
    "def player_marker(player1,player2):\n",
    "    #player1,player2=player_name()\n",
    "    marker=''\n",
    "    while marker!='X' and marker!='O':\n",
    "        marker=input(player1 +\", please enter your marker X or O: \").upper()\n",
    "        if marker=='X':\n",
    "            player1_marker='X' \n",
    "            player2_marker='O'\n",
    "        else:\n",
    "            player1_marker='O'  \n",
    "            player2_marker='X'\n",
    "    return (player1_marker,player2_marker)"
   ]
  },
  {
   "cell_type": "code",
   "execution_count": 7,
   "metadata": {},
   "outputs": [
    {
     "name": "stdout",
     "output_type": "stream",
     "text": [
      "sowmya, please enter your marker X or O: x\n"
     ]
    },
    {
     "data": {
      "text/plain": [
       "('X', 'O')"
      ]
     },
     "execution_count": 7,
     "metadata": {},
     "output_type": "execute_result"
    }
   ],
   "source": [
    "player_marker('sowmya','sneha')"
   ]
  },
  {
   "cell_type": "code",
   "execution_count": 8,
   "metadata": {},
   "outputs": [],
   "source": [
    "import random\n",
    "def first_player_to_go(player1,player2):\n",
    "    if random.randint(0,1)==0:\n",
    "        print(\"{} will go first\".format(player2))\n",
    "        return player2\n",
    "    else:\n",
    "        print(\"{} will go first\".format(player1))\n",
    "        return player1"
   ]
  },
  {
   "cell_type": "code",
   "execution_count": 9,
   "metadata": {},
   "outputs": [
    {
     "name": "stdout",
     "output_type": "stream",
     "text": [
      "sowmya will go first\n"
     ]
    },
    {
     "data": {
      "text/plain": [
       "'sowmya'"
      ]
     },
     "execution_count": 9,
     "metadata": {},
     "output_type": "execute_result"
    }
   ],
   "source": [
    "first_player_to_go('sowmya','sneha')"
   ]
  },
  {
   "cell_type": "code",
   "execution_count": 10,
   "metadata": {},
   "outputs": [],
   "source": [
    "def check_win(board,mark):\n",
    "    return ((board[7] == mark and board[8] == mark and board[9] == mark) or # across the top\n",
    "    (board[4] == mark and board[5] == mark and board[6] == mark) or # across the middle\n",
    "    (board[1] == mark and board[2] == mark and board[3] == mark) or # across the bottom\n",
    "    (board[7] == mark and board[4] == mark and board[1] == mark) or # down the middle\n",
    "    (board[8] == mark and board[5] == mark and board[2] == mark) or # down the middle\n",
    "    (board[9] == mark and board[6] == mark and board[3] == mark) or # down the right side\n",
    "    (board[7] == mark and board[5] == mark and board[3] == mark) or # diagonal\n",
    "    (board[9] == mark and board[5] == mark and board[1] == mark)) # diagonal\n",
    "    "
   ]
  },
  {
   "cell_type": "code",
   "execution_count": 11,
   "metadata": {},
   "outputs": [],
   "source": [
    "def place_marker(board,position,marker):\n",
    "    board[position]=marker"
   ]
  },
  {
   "cell_type": "code",
   "execution_count": 12,
   "metadata": {},
   "outputs": [],
   "source": [
    "def space_check(board, position):\n",
    "    \n",
    "    return board[position] == ' '\n",
    "    "
   ]
  },
  {
   "cell_type": "code",
   "execution_count": 13,
   "metadata": {},
   "outputs": [],
   "source": [
    "def full_board_check(board):\n",
    "    for i in range(1,10):\n",
    "        if space_check(board,i):\n",
    "            return False\n",
    "    return True"
   ]
  },
  {
   "cell_type": "code",
   "execution_count": 14,
   "metadata": {},
   "outputs": [],
   "source": [
    "def player1_choice(board,player1):\n",
    "    position = 0\n",
    "    \n",
    "    while position not in [1,2,3,4,5,6,7,8,9] or not space_check(board, position):\n",
    "        position = int(input(player1+' ,Choose your position: (1-9) '))\n",
    "        \n",
    "    return position"
   ]
  },
  {
   "cell_type": "code",
   "execution_count": 15,
   "metadata": {},
   "outputs": [],
   "source": [
    "def player2_choice(board,player2):\n",
    "    position = 0\n",
    "    \n",
    "    while position not in [1,2,3,4,5,6,7,8,9] or not space_check(board, position):\n",
    "        position = int(input(player2+' ,Choose your position: (1-9) '))\n",
    "        \n",
    "    return position"
   ]
  },
  {
   "cell_type": "code",
   "execution_count": 16,
   "metadata": {},
   "outputs": [],
   "source": [
    "def replay():\n",
    "    \n",
    "    return input('Do you want to play again? Enter Yes or No: ').lower().startswith('y')"
   ]
  },
  {
   "cell_type": "code",
   "execution_count": 17,
   "metadata": {},
   "outputs": [
    {
     "name": "stdout",
     "output_type": "stream",
     "text": [
      "Welcome to Tic-Tac-Toe game!!!\n",
      "Player1, please enter your name: sowmya\n",
      "Player2, please enter your name: manasa\n",
      "sowmya, please enter your marker X or O: x\n",
      "manasa will go first\n",
      "Are you ready to start the game? please enter yes or no: yes\n",
      "Before you start the game, please know the board positions as shown below\n",
      "7|8|9\n",
      "4|5|6\n",
      "1|2|3\n",
      " | | \n",
      " | | \n",
      " | | \n",
      "manasa ,Choose your position: (1-9) 3\n",
      " | | \n",
      " | | \n",
      " | |O\n",
      "sowmya ,Choose your position: (1-9) 6\n",
      " | | \n",
      " | |X\n",
      " | |O\n",
      "manasa ,Choose your position: (1-9) 2\n",
      " | | \n",
      " | |X\n",
      " |O|O\n",
      "sowmya ,Choose your position: (1-9) 1\n",
      " | | \n",
      " | |X\n",
      "X|O|O\n",
      "manasa ,Choose your position: (1-9) 5\n",
      " | | \n",
      " |O|X\n",
      "X|O|O\n",
      "sowmya ,Choose your position: (1-9) 8\n",
      " |X| \n",
      " |O|X\n",
      "X|O|O\n",
      "manasa ,Choose your position: (1-9) 4\n",
      " |X| \n",
      "O|O|X\n",
      "X|O|O\n",
      "sowmya ,Choose your position: (1-9) 9\n",
      " |X|X\n",
      "O|O|X\n",
      "X|O|O\n",
      "manasa ,Choose your position: (1-9) 7\n",
      "O|X|X\n",
      "O|O|X\n",
      "X|O|O\n",
      "Congratulations, manasa you won the game\n",
      "Do you want to play again? Enter Yes or No: no\n"
     ]
    }
   ],
   "source": [
    "print(\"Welcome to Tic-Tac-Toe game!!!\")\n",
    "while True:\n",
    "    GameBoard = [' '] * 10\n",
    "    player1,player2=player_name()\n",
    "    player1_marker,player2_marker=player_marker(player1,player2)\n",
    "    turn=first_player_to_go(player1,player2)\n",
    "    ready=input(\"Are you ready to start the game? please enter yes or no: \")\n",
    "    \n",
    "    if ready.lower()[0]=='y':\n",
    "        play_game=True\n",
    "    else:\n",
    "        play_game=False\n",
    "    print(\"Before you start the game, please know the board positions as shown below\")\n",
    "    sample_board()\n",
    "    while play_game:\n",
    "        if turn == player1:\n",
    "            display_board(GameBoard)\n",
    "            position=player1_choice(GameBoard,player1)\n",
    "            place_marker(GameBoard,position,player1_marker)\n",
    "            \n",
    "            if check_win(GameBoard,player1_marker):\n",
    "                display_board(GameBoard)\n",
    "                print(\"Congratulations, {} you won the game\".format(player1))\n",
    "                play_game=False\n",
    "            else:\n",
    "                if full_board_check(GameBoard):\n",
    "                    display_board(GameBoard)\n",
    "                    print(\"Tha game is draw\")\n",
    "                    break\n",
    "                else:\n",
    "                    turn=player2\n",
    "        \n",
    "        else:\n",
    "            display_board(GameBoard)\n",
    "            position=player2_choice(GameBoard,player2)\n",
    "            place_marker(GameBoard,position,player2_marker)\n",
    "            \n",
    "            if check_win(GameBoard,player2_marker):\n",
    "                display_board(GameBoard)\n",
    "                print(\"Congratulations, {} you won the game\".format(player2))\n",
    "                play_game=False\n",
    "            else:\n",
    "                if full_board_check(GameBoard):\n",
    "                    display_board(GameBoard)\n",
    "                    print(\"Tha game is draw\")\n",
    "                    break\n",
    "                else:\n",
    "                    turn=player1\n",
    "    if not replay():\n",
    "        break"
   ]
  },
  {
   "cell_type": "code",
   "execution_count": null,
   "metadata": {},
   "outputs": [],
   "source": []
  }
 ],
 "metadata": {
  "kernelspec": {
   "display_name": "Python 3",
   "language": "python",
   "name": "python3"
  },
  "language_info": {
   "codemirror_mode": {
    "name": "ipython",
    "version": 3
   },
   "file_extension": ".py",
   "mimetype": "text/x-python",
   "name": "python",
   "nbconvert_exporter": "python",
   "pygments_lexer": "ipython3",
   "version": "3.7.4"
  }
 },
 "nbformat": 4,
 "nbformat_minor": 2
}
